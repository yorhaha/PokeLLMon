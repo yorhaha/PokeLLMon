{
 "cells": [
  {
   "cell_type": "code",
   "execution_count": 5,
   "metadata": {},
   "outputs": [
    {
     "name": "stderr",
     "output_type": "stream",
     "text": [
      "100%|██████████| 4/4 [00:39<00:00,  9.96s/it]\n"
     ]
    }
   ],
   "source": [
    "import pickle as pkl\n",
    "import glob\n",
    "from collections import Counter\n",
    "from tabulate import tabulate\n",
    "import os\n",
    "from tqdm.auto import tqdm\n",
    "\n",
    "# get dirs from battle_log\\pokellmon_vs_bot\n",
    "battle_folders = glob.glob(\"battle_log/pokellmon_vs_bot/*\")\n",
    "battle_folders.sort()\n",
    "\n",
    "mode_counter = {}\n",
    "\n",
    "for folder in tqdm(battle_folders):\n",
    "    mode = folder.split(os.sep)[-1]\n",
    "    mode_counter[mode] = Counter()\n",
    "\n",
    "    pkl_files = glob.glob(f\"{folder}/*.pkl\")\n",
    "    pkl_files.sort()\n",
    "\n",
    "    win_counter = Counter()\n",
    "\n",
    "    for pkl_file in pkl_files:\n",
    "        with open(pkl_file, \"rb\") as f:\n",
    "            battle = pkl.load(f)\n",
    "        if battle.player_username == 'yorhaha':\n",
    "            mode_counter[mode][battle.won] += 1\n",
    "        else:\n",
    "            mode_counter[mode][battle.won] += 1"
   ]
  },
  {
   "cell_type": "code",
   "execution_count": 6,
   "metadata": {},
   "outputs": [
    {
     "name": "stdout",
     "output_type": "stream",
     "text": [
      "+----------------------------+------+--------+----------+-------+\n",
      "|            Mode            | Wins | Losses | Win Rate | Total |\n",
      "+----------------------------+------+--------+----------+-------+\n",
      "| Llama-2-7b-chat-hf_0.1_cot |  13  |   87   |  13.00%  |  100  |\n",
      "| Llama-2-7b-chat-hf_0.1_io  |  2   |   18   |  10.00%  |  20   |\n",
      "| Llama-2-7b-chat-hf_0.1_sc  |  2   |   27   |  6.90%   |  29   |\n",
      "| Llama-2-7b-chat-hf_0.1_tot |  15  |   85   |  15.00%  |  100  |\n",
      "+----------------------------+------+--------+----------+-------+\n"
     ]
    }
   ],
   "source": [
    "header = [\"Mode\", \"Wins\", \"Losses\", \"Win Rate\", \"Total\"]\n",
    "rows = []\n",
    "for mode, counter in mode_counter.items():\n",
    "    wins = counter[True]\n",
    "    losses = counter[False]\n",
    "    win_rate = wins / (wins + losses)\n",
    "    rows.append([mode, wins, losses, f\"{win_rate:.2%}\", wins + losses])\n",
    "\n",
    "print(tabulate(rows, headers=header, tablefmt=\"pretty\"))"
   ]
  }
 ],
 "metadata": {
  "kernelspec": {
   "display_name": "venv",
   "language": "python",
   "name": "python3"
  },
  "language_info": {
   "codemirror_mode": {
    "name": "ipython",
    "version": 3
   },
   "file_extension": ".py",
   "mimetype": "text/x-python",
   "name": "python",
   "nbconvert_exporter": "python",
   "pygments_lexer": "ipython3",
   "version": "undefined.undefined.undefined"
  }
 },
 "nbformat": 4,
 "nbformat_minor": 2
}
